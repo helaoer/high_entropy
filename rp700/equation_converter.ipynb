{
 "cells": [
  {
   "cell_type": "code",
   "execution_count": 9,
   "metadata": {},
   "outputs": [],
   "source": [
    "# NOTICE!!!!\n",
    "# replace 'E' in the equation with 'e' as sympy would treat 'E' as numerical value e.\n",
    "##################\n",
    "\n",
    "import sympy as sp\n",
    "import pandas as pd\n",
    "\n",
    "# Define custom operations using subclassing of sympy.Function\n",
    "class Add(sp.Function):\n",
    "    @classmethod\n",
    "    def eval(cls, x, y):\n",
    "        return x + y\n",
    "\n",
    "class Sub(sp.Function):\n",
    "    @classmethod\n",
    "    def eval(cls, x, y):\n",
    "        return x - y\n",
    "\n",
    "class Mul(sp.Function):\n",
    "    @classmethod\n",
    "    def eval(cls, x, y):\n",
    "        return x * y\n",
    "\n",
    "class Div(sp.Function):\n",
    "    @classmethod\n",
    "    def eval(cls, x, y):\n",
    "        try:\n",
    "            result = sp.Piecewise(\n",
    "                (1, sp.Eq(y, 0)),  # Return 1 if y is exactly zero\n",
    "                (1, sp.Eq(y, sp.zoo)),  # Return 1 if y is exactly zero\n",
    "                (x / y, True)           # Normal division otherwise\n",
    "            )\n",
    "            return result.simplify()  # Simplify to handle potential further issues\n",
    "        except Exception as e:\n",
    "            print(f\"Division error: {e}\")\n",
    "            return 1000  # Return NaN on error\n",
    "        \n",
    "# Define the custom operations using subclassing of sympy.Function\n",
    "class Div_for_visualization(sp.Function):\n",
    "    @classmethod\n",
    "    def eval(cls, x, y):\n",
    "        # Use Piecewise to handle division by zero robustly\n",
    "        return x / y\n",
    "\n",
    "class Neg(sp.Function):\n",
    "    @classmethod\n",
    "    def eval(cls, x):\n",
    "        return -x\n",
    "    \n",
    "\n",
    "# Update converter for sympify to recognize custom classes\n",
    "converter = {\n",
    "    'add': Add,\n",
    "    'sub': Sub,\n",
    "    'mul': Mul,\n",
    "    'div': Div,\n",
    "    'neg': Neg,\n",
    "}\n",
    "\n",
    "# Update converter for sympify to recognize custom classes\n",
    "converter_vis = {\n",
    "    'add': Add,\n",
    "    'sub': Sub,\n",
    "    'mul': Mul,\n",
    "    'div': Div_for_visualization,\n",
    "    'neg': Neg,\n",
    "}\n",
    "\n",
    "# Function to apply the equation to each row of the DataFrame\n",
    "def apply_equation(row):\n",
    "    # Replace variables in the expression with row data\n",
    "    local_env = {\n",
    "        'Pr': row['Pr'],\n",
    "        'La': row['La'],\n",
    "        'Gd': row['Gd'],\n",
    "        'Nd': row['Nd'],\n",
    "        'Ce': row['Ce'],\n",
    "        'Sm': row['Sm'],\n",
    "        'Y' : row['Y'],\n",
    "        \"EN\": row['EN'],\n",
    "        'R' : row['R'],\n",
    "        'IE': row['IE'],\n",
    "        'LAS': row['LAS'],\n",
    "        'M' : row['M'],\n",
    "        'e' : row['E'],\n",
    "    }\n",
    "    try:\n",
    "        result = expr.subs(local_env)\n",
    "        # Force numeric evaluation if the result is not numeric\n",
    "        if isinstance(result, sp.Expr):  # Check if result is still a symbolic expression\n",
    "            result = result.evalf()  # Evaluate numerically\n",
    "        # if result == sp.zoo:\n",
    "        #     result = 1\n",
    "    except Exception as e:\n",
    "        print(f\"Error evaluating row: {local_env}\")\n",
    "        print(f\"Error message: {str(e)}\")\n",
    "        result = None  # Optional: handle error case by assigning a default value or None\n",
    "    return result\n",
    "\n",
    "    # print(\"Local Environment:\", local_env)  # Debug: Print the local environment for a row\n",
    "    # return expr.subs(local_env)"
   ]
  },
  {
   "cell_type": "code",
   "execution_count": 10,
   "metadata": {},
   "outputs": [
    {
     "name": "stdout",
     "output_type": "stream",
     "text": [
      "-0.297885016383676*LAS + 0.297885016383676*Pr + e + 0.327653997378768*(Nd - 4.782)/(IE*(R - Y))\n"
     ]
    }
   ],
   "source": [
    "equ = \"add(div(sub(Pr, LAS), 3.357), add(div(sub(Nd, 4.782), mul(sub(R, Y), mul(IE, 3.052))), e))\"\n",
    "expr = sp.sympify(equ, locals=converter_vis)\n",
    "print(expr)\n",
    "\n",
    "expr = sp.sympify(equ, locals=converter,evaluate=True)\n",
    "# Read the Excel file\n",
    "df = pd.read_excel('./all_rp700.xlsx')\n",
    "df = df.apply(lambda x: round(x, 4) if x.dtype.kind in 'fc' else x)\n",
    "\n",
    "# Apply the function to each row\n",
    "df['Pred'] = df.apply(apply_equation, axis=1)\n",
    "# Save the result back to a new Excel file\n",
    "df.to_excel('all_rp700_pred.xlsx', index=False)"
   ]
  },
  {
   "cell_type": "code",
   "execution_count": 11,
   "metadata": {},
   "outputs": [
    {
     "name": "stdout",
     "output_type": "stream",
     "text": [
      "EN + e/((EN - IE)/(IE - R) + EN*Nd/Ce)\n"
     ]
    }
   ],
   "source": [
    "equ = \"add(div(e, add(div(sub(EN, IE), sub(IE, R)), mul(div(EN, Ce), Nd))), EN)\"\n",
    "expr = sp.sympify(equ, locals=converter_vis)\n",
    "print(expr)\n",
    "\n",
    "expr = sp.sympify(equ, locals=converter,evaluate=True)\n",
    "# Read the Excel file\n",
    "df = pd.read_excel('./La_rp700.xlsx')\n",
    "df = df.apply(lambda x: round(x, 4) if x.dtype.kind in 'fc' else x)\n",
    "\n",
    "# Apply the function to each row\n",
    "df['Pred'] = df.apply(apply_equation, axis=1)\n",
    "# Save the result back to a new Excel file\n",
    "df.to_excel('La_rp700_pred.xlsx', index=False)"
   ]
  },
  {
   "cell_type": "code",
   "execution_count": 12,
   "metadata": {},
   "outputs": [
    {
     "name": "stdout",
     "output_type": "stream",
     "text": [
      "IE*(e + Nd*(-EN + e)/(La**2*(-EN + Sm)))/Y\n"
     ]
    }
   ],
   "source": [
    "equ = \"div(mul(IE, add(div(div(sub(e, EN), sub(Sm, EN)), div(La, div(Nd, La))), e)), Y)\"\n",
    "expr = sp.sympify(equ, locals=converter_vis)\n",
    "print(expr)\n",
    "\n",
    "expr = sp.sympify(equ, locals=converter,evaluate=True)\n",
    "# Read the Excel file\n",
    "df = pd.read_excel('./Gd_rp700.xlsx')\n",
    "df = df.apply(lambda x: round(x, 4) if x.dtype.kind in 'fc' else x)\n",
    "\n",
    "# Apply the function to each row\n",
    "df['Pred'] = df.apply(apply_equation, axis=1)\n",
    "# Save the result back to a new Excel file\n",
    "df.to_excel('Gd_rp700_pred.xlsx', index=False)"
   ]
  },
  {
   "cell_type": "code",
   "execution_count": 13,
   "metadata": {},
   "outputs": [
    {
     "name": "stdout",
     "output_type": "stream",
     "text": [
      "-0.612369871402327*La + 0.612369871402327*M + e + (R - Sm)/(-2.922*Gd + 2.922*Y + 2.403)\n"
     ]
    }
   ],
   "source": [
    "equ = \"add(div(sub(M, La), 1.633), add(div(sub(R, Sm), sub(2.403, mul(2.922, sub(Gd, Y)))), e))\"\n",
    "expr = sp.sympify(equ, locals=converter_vis)\n",
    "print(expr)\n",
    "\n",
    "expr = sp.sympify(equ, locals=converter,evaluate=True)\n",
    "# Read the Excel file\n",
    "df = pd.read_excel('./Nd_rp700.xlsx')\n",
    "df = df.apply(lambda x: round(x, 4) if x.dtype.kind in 'fc' else x)\n",
    "\n",
    "# Apply the function to each row\n",
    "df['Pred'] = df.apply(apply_equation, axis=1)\n",
    "# Save the result back to a new Excel file\n",
    "df.to_excel('Nd_rp700_pred.xlsx', index=False)"
   ]
  },
  {
   "cell_type": "code",
   "execution_count": 14,
   "metadata": {},
   "outputs": [
    {
     "name": "stdout",
     "output_type": "stream",
     "text": [
      "EN - LAS + e - (-Gd + La)*(-La + e)/(6.635*La - 6.635*e)\n"
     ]
    }
   ],
   "source": [
    "equ = \"add(sub(e, add(div(sub(e, La), div(mul(-6.635, sub(e, La)), sub(La, Gd))), LAS)), EN)\"\n",
    "expr = sp.sympify(equ, locals=converter_vis)\n",
    "print(expr)\n",
    "\n",
    "expr = sp.sympify(equ, locals=converter,evaluate=True)\n",
    "# Read the Excel file\n",
    "df = pd.read_excel('./Ce_rp700.xlsx')\n",
    "df = df.apply(lambda x: round(x, 4) if x.dtype.kind in 'fc' else x)\n",
    "\n",
    "# Apply the function to each row\n",
    "df['Pred'] = df.apply(apply_equation, axis=1)\n",
    "# Save the result back to a new Excel file\n",
    "df.to_excel('Ce_rp700_pred.xlsx', index=False)"
   ]
  },
  {
   "cell_type": "code",
   "execution_count": 15,
   "metadata": {},
   "outputs": [
    {
     "name": "stdout",
     "output_type": "stream",
     "text": [
      "e + (M - Y)/(2*La - 6.465 - (Nd - Y)/(-Gd + M))\n"
     ]
    }
   ],
   "source": [
    "equ = \"add(div(sub(M, Y), sub(La, sub(add(div(sub(Nd, Y), sub(M, Gd)), 6.465), La))), e)\"\n",
    "expr = sp.sympify(equ, locals=converter_vis)\n",
    "print(expr)\n",
    "\n",
    "expr = sp.sympify(equ, locals=converter,evaluate=True)\n",
    "# Read the Excel file\n",
    "df = pd.read_excel('./Sm_rp700.xlsx')\n",
    "df = df.apply(lambda x: round(x, 4) if x.dtype.kind in 'fc' else x)\n",
    "\n",
    "# Apply the function to each row\n",
    "df['Pred'] = df.apply(apply_equation, axis=1)\n",
    "# Save the result back to a new Excel file\n",
    "df.to_excel('Sm_rp700_pred.xlsx', index=False)"
   ]
  },
  {
   "cell_type": "code",
   "execution_count": 16,
   "metadata": {},
   "outputs": [
    {
     "name": "stdout",
     "output_type": "stream",
     "text": [
      "e + (-EN + LAS - e + 5.767)/(3.836*IE - 3.836*La)\n"
     ]
    }
   ],
   "source": [
    "equ = \"add(div(sub(sub(LAS, -5.767), add(e, EN)), mul(sub(IE, La), 3.836)), e)\"\n",
    "expr = sp.sympify(equ, locals=converter_vis)\n",
    "print(expr)\n",
    "\n",
    "expr = sp.sympify(equ, locals=converter)\n",
    "\n",
    "# Read the Excel file\n",
    "df = pd.read_excel('./Y_rp700.xlsx')\n",
    "df = df.apply(lambda x: round(x, 4) if x.dtype.kind in 'fc' else x)\n",
    "\n",
    "# Apply the function to each row\n",
    "df['Pred'] = df.apply(apply_equation, axis=1)\n",
    "# Save the result back to a new Excel file\n",
    "df.to_excel('Y_rp700_pred.xlsx', index=False)\n",
    "# df['Pred']"
   ]
  }
 ],
 "metadata": {
  "kernelspec": {
   "display_name": "torch",
   "language": "python",
   "name": "python3"
  },
  "language_info": {
   "codemirror_mode": {
    "name": "ipython",
    "version": 3
   },
   "file_extension": ".py",
   "mimetype": "text/x-python",
   "name": "python",
   "nbconvert_exporter": "python",
   "pygments_lexer": "ipython3",
   "version": "3.12.2"
  }
 },
 "nbformat": 4,
 "nbformat_minor": 2
}
