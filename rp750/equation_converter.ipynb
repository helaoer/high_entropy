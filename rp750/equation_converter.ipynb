{
 "cells": [
  {
   "cell_type": "code",
   "execution_count": 1,
   "metadata": {},
   "outputs": [],
   "source": [
    "# NOTICE!!!!\n",
    "# replace 'E' in the equation with 'e' as sympy would treat 'E' as numerical value e.\n",
    "##################\n",
    "\n",
    "import sympy as sp\n",
    "import pandas as pd\n",
    "\n",
    "# Define custom operations using subclassing of sympy.Function\n",
    "class Add(sp.Function):\n",
    "    @classmethod\n",
    "    def eval(cls, x, y):\n",
    "        return x + y\n",
    "\n",
    "class Sub(sp.Function):\n",
    "    @classmethod\n",
    "    def eval(cls, x, y):\n",
    "        return x - y\n",
    "\n",
    "class Mul(sp.Function):\n",
    "    @classmethod\n",
    "    def eval(cls, x, y):\n",
    "        return x * y\n",
    "\n",
    "class Div(sp.Function):\n",
    "    @classmethod\n",
    "    def eval(cls, x, y):\n",
    "        try:\n",
    "            result = sp.Piecewise(\n",
    "                (1, sp.Eq(y, 0)),  # Return 1 if y is exactly zero\n",
    "                (1, sp.Eq(y, sp.zoo)),  # Return 1 if y is exactly zero\n",
    "                (x / y, True)           # Normal division otherwise\n",
    "            )\n",
    "            return result.simplify()  # Simplify to handle potential further issues\n",
    "        except Exception as e:\n",
    "            print(f\"Division error: {e}\")\n",
    "            return 1000  # Return NaN on error\n",
    "        \n",
    "# Define the custom operations using subclassing of sympy.Function\n",
    "class Div_for_visualization(sp.Function):\n",
    "    @classmethod\n",
    "    def eval(cls, x, y):\n",
    "        # Use Piecewise to handle division by zero robustly\n",
    "        return x / y\n",
    "\n",
    "class Neg(sp.Function):\n",
    "    @classmethod\n",
    "    def eval(cls, x):\n",
    "        return -x\n",
    "    \n",
    "\n",
    "# Update converter for sympify to recognize custom classes\n",
    "converter = {\n",
    "    'add': Add,\n",
    "    'sub': Sub,\n",
    "    'mul': Mul,\n",
    "    'div': Div,\n",
    "    'neg': Neg,\n",
    "}\n",
    "\n",
    "# Update converter for sympify to recognize custom classes\n",
    "converter_vis = {\n",
    "    'add': Add,\n",
    "    'sub': Sub,\n",
    "    'mul': Mul,\n",
    "    'div': Div_for_visualization,\n",
    "    'neg': Neg,\n",
    "}\n",
    "\n",
    "# Function to apply the equation to each row of the DataFrame\n",
    "def apply_equation(row):\n",
    "    # Replace variables in the expression with row data\n",
    "    local_env = {\n",
    "        'Pr': row['Pr'],\n",
    "        'La': row['La'],\n",
    "        'Gd': row['Gd'],\n",
    "        'Nd': row['Nd'],\n",
    "        'Ce': row['Ce'],\n",
    "        'Sm': row['Sm'],\n",
    "        'Y' : row['Y'],\n",
    "        \"EN\": row['EN'],\n",
    "        'R' : row['R'],\n",
    "        'IE': row['IE'],\n",
    "        'LAS': row['LAS'],\n",
    "        'M' : row['M'],\n",
    "        'e' : row['E'],\n",
    "    }\n",
    "    try:\n",
    "        result = expr.subs(local_env)\n",
    "        # Force numeric evaluation if the result is not numeric\n",
    "        if isinstance(result, sp.Expr):  # Check if result is still a symbolic expression\n",
    "            result = result.evalf()  # Evaluate numerically\n",
    "        # if result == sp.zoo:\n",
    "        #     result = 1\n",
    "    except Exception as e:\n",
    "        print(f\"Error evaluating row: {local_env}\")\n",
    "        print(f\"Error message: {str(e)}\")\n",
    "        result = None  # Optional: handle error case by assigning a default value or None\n",
    "    return result\n",
    "\n",
    "    # print(\"Local Environment:\", local_env)  # Debug: Print the local environment for a row\n",
    "    # return expr.subs(local_env)"
   ]
  },
  {
   "cell_type": "code",
   "execution_count": 3,
   "metadata": {},
   "outputs": [
    {
     "name": "stdout",
     "output_type": "stream",
     "text": [
      "-0.482*La + 0.482*M + 0.482*R + 0.482*e + 0.482*(LAS - 4.128)/(Nd*(LAS - M))\n"
     ]
    }
   ],
   "source": [
    "equ = \"mul(0.482, add(M, add(div(div(sub(LAS, 4.128), sub(LAS, M)), Nd), add(sub(R, La), e))))\"\n",
    "expr = sp.sympify(equ, locals=converter_vis)\n",
    "print(expr)\n",
    "\n",
    "expr = sp.sympify(equ, locals=converter,evaluate=True)\n",
    "# Read the Excel file\n",
    "df = pd.read_excel('./all_rp750.xlsx')\n",
    "df = df.apply(lambda x: round(x, 4) if x.dtype.kind in 'fc' else x)\n",
    "\n",
    "# Apply the function to each row\n",
    "df['Pred'] = df.apply(apply_equation, axis=1)\n",
    "# Save the result back to a new Excel file\n",
    "df.to_excel('all_rp750_pred.xlsx', index=False)"
   ]
  },
  {
   "cell_type": "code",
   "execution_count": 4,
   "metadata": {},
   "outputs": [
    {
     "name": "stdout",
     "output_type": "stream",
     "text": [
      "EN + (Ce - 7.983/(Ce + 4.263*Gd - 4.263*e))/EN\n"
     ]
    }
   ],
   "source": [
    "equ = \"add(div(sub(Ce, div(7.983, add(mul(sub(Gd, e), 4.263), Ce))), EN), EN)\"\n",
    "expr = sp.sympify(equ, locals=converter_vis)\n",
    "print(expr)\n",
    "\n",
    "expr = sp.sympify(equ, locals=converter,evaluate=True)\n",
    "# Read the Excel file\n",
    "df = pd.read_excel('./La_rp750.xlsx')\n",
    "df = df.apply(lambda x: round(x, 4) if x.dtype.kind in 'fc' else x)\n",
    "\n",
    "# Apply the function to each row\n",
    "df['Pred'] = df.apply(apply_equation, axis=1)\n",
    "# Save the result back to a new Excel file\n",
    "df.to_excel('La_rp750_pred.xlsx', index=False)"
   ]
  },
  {
   "cell_type": "code",
   "execution_count": 5,
   "metadata": {},
   "outputs": [
    {
     "name": "stdout",
     "output_type": "stream",
     "text": [
      "1.31397174254317*EN - 0.313971742543171*Pr + 0.51679748822606 + (EN - R)/(e*(4.966 - Nd))\n"
     ]
    }
   ],
   "source": [
    "equ = \"add(add(EN, div(sub(EN, R), mul(e, sub(4.966, Nd)))), div(sub(add(Pr, -1.646), EN), -3.185))\"\n",
    "expr = sp.sympify(equ, locals=converter_vis)\n",
    "print(expr)\n",
    "\n",
    "expr = sp.sympify(equ, locals=converter,evaluate=True)\n",
    "# Read the Excel file\n",
    "df = pd.read_excel('./Gd_rp750.xlsx')\n",
    "df = df.apply(lambda x: round(x, 4) if x.dtype.kind in 'fc' else x)\n",
    "\n",
    "# Apply the function to each row\n",
    "df['Pred'] = df.apply(apply_equation, axis=1)\n",
    "# Save the result back to a new Excel file\n",
    "df.to_excel('Gd_rp750_pred.xlsx', index=False)"
   ]
  },
  {
   "cell_type": "code",
   "execution_count": 6,
   "metadata": {},
   "outputs": [
    {
     "name": "stdout",
     "output_type": "stream",
     "text": [
      "0.498*Ce + 0.498*EN/(R - 4.233/(EN*(EN - Pr))) + 0.498*e\n"
     ]
    }
   ],
   "source": [
    "equ = \"mul(0.498, add(add(Ce, div(EN, add(R, div(div(-4.233, EN), sub(EN, Pr))))), e))\"\n",
    "expr = sp.sympify(equ, locals=converter_vis)\n",
    "print(expr)\n",
    "\n",
    "expr = sp.sympify(equ, locals=converter,evaluate=True)\n",
    "# Read the Excel file\n",
    "df = pd.read_excel('./Nd_rp750.xlsx')\n",
    "df = df.apply(lambda x: round(x, 4) if x.dtype.kind in 'fc' else x)\n",
    "\n",
    "# Apply the function to each row\n",
    "df['Pred'] = df.apply(apply_equation, axis=1)\n",
    "# Save the result back to a new Excel file\n",
    "df.to_excel('Nd_rp750_pred.xlsx', index=False)"
   ]
  },
  {
   "cell_type": "code",
   "execution_count": 13,
   "metadata": {},
   "outputs": [
    {
     "name": "stdout",
     "output_type": "stream",
     "text": [
      "6.986 - e*(Gd - La)/(Gd*M*(-La + e))\n"
     ]
    }
   ],
   "source": [
    "equ = \"sub(div(div(neg(e), div(mul(Gd, sub(e, La)), sub(Gd, La))), M), -6.986)\"\n",
    "expr = sp.sympify(equ, locals=converter_vis)\n",
    "print(expr)\n",
    "\n",
    "expr = sp.sympify(equ, locals=converter,evaluate=True)\n",
    "# Read the Excel file\n",
    "df = pd.read_excel('./Ce_rp750.xlsx')\n",
    "df = df.apply(lambda x: round(x, 4) if x.dtype.kind in 'fc' else x)\n",
    "\n",
    "# Apply the function to each row\n",
    "df['Pred'] = df.apply(apply_equation, axis=1)\n",
    "# Save the result back to a new Excel file\n",
    "df.to_excel('Ce_rp750_pred.xlsx', index=False)"
   ]
  },
  {
   "cell_type": "code",
   "execution_count": 8,
   "metadata": {},
   "outputs": [
    {
     "name": "stdout",
     "output_type": "stream",
     "text": [
      "e + (Sm - e)/e + (Ce - 4.557)/(Gd*(R - Y))\n"
     ]
    }
   ],
   "source": [
    "equ = \"add(div(sub(Sm, e), e), add(div(div(sub(Ce, 4.557), sub(R, Y)), Gd), e))\"\n",
    "expr = sp.sympify(equ, locals=converter_vis)\n",
    "print(expr)\n",
    "\n",
    "expr = sp.sympify(equ, locals=converter,evaluate=True)\n",
    "# Read the Excel file\n",
    "df = pd.read_excel('./Sm_rp750.xlsx')\n",
    "df = df.apply(lambda x: round(x, 4) if x.dtype.kind in 'fc' else x)\n",
    "\n",
    "# Apply the function to each row\n",
    "df['Pred'] = df.apply(apply_equation, axis=1)\n",
    "# Save the result back to a new Excel file\n",
    "df.to_excel('Sm_rp750_pred.xlsx', index=False)"
   ]
  },
  {
   "cell_type": "code",
   "execution_count": 9,
   "metadata": {},
   "outputs": [
    {
     "name": "stdout",
     "output_type": "stream",
     "text": [
      "e - (Gd - e)/(Gd*(Gd - 3.69)*(R - Y))\n"
     ]
    }
   ],
   "source": [
    "equ = \"add(div(sub(Gd, e), mul(mul(add(Gd, -3.690), neg(Gd)), sub(R, Y))), e)\"\n",
    "expr = sp.sympify(equ, locals=converter_vis)\n",
    "print(expr)\n",
    "\n",
    "expr = sp.sympify(equ, locals=converter)\n",
    "\n",
    "# Read the Excel file\n",
    "df = pd.read_excel('./Y_rp750.xlsx')\n",
    "df = df.apply(lambda x: round(x, 4) if x.dtype.kind in 'fc' else x)\n",
    "\n",
    "# Apply the function to each row\n",
    "df['Pred'] = df.apply(apply_equation, axis=1)\n",
    "# Save the result back to a new Excel file\n",
    "df.to_excel('Y_rp750_pred.xlsx', index=False)\n",
    "# df['Pred']"
   ]
  }
 ],
 "metadata": {
  "kernelspec": {
   "display_name": "torch",
   "language": "python",
   "name": "python3"
  },
  "language_info": {
   "codemirror_mode": {
    "name": "ipython",
    "version": 3
   },
   "file_extension": ".py",
   "mimetype": "text/x-python",
   "name": "python",
   "nbconvert_exporter": "python",
   "pygments_lexer": "ipython3",
   "version": "3.12.2"
  }
 },
 "nbformat": 4,
 "nbformat_minor": 2
}
