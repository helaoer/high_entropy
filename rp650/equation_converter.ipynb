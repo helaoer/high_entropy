{
 "cells": [
  {
   "cell_type": "code",
   "execution_count": 3,
   "metadata": {},
   "outputs": [],
   "source": [
    "# NOTICE!!!!\n",
    "# replace 'E' in the equation with 'e' as sympy would treat 'E' as numerical value e.\n",
    "##################\n",
    "\n",
    "import sympy as sp\n",
    "import pandas as pd\n",
    "\n",
    "# Define custom operations using subclassing of sympy.Function\n",
    "class Add(sp.Function):\n",
    "    @classmethod\n",
    "    def eval(cls, x, y):\n",
    "        return x + y\n",
    "\n",
    "class Sub(sp.Function):\n",
    "    @classmethod\n",
    "    def eval(cls, x, y):\n",
    "        return x - y\n",
    "\n",
    "class Mul(sp.Function):\n",
    "    @classmethod\n",
    "    def eval(cls, x, y):\n",
    "        return x * y\n",
    "\n",
    "class Div(sp.Function):\n",
    "    @classmethod\n",
    "    def eval(cls, x, y):\n",
    "        try:\n",
    "            result = sp.Piecewise(\n",
    "                (1, sp.Eq(y, 0)),  # Return 1 if y is exactly zero\n",
    "                (1, sp.Eq(y, sp.zoo)),  # Return 1 if y is exactly zero\n",
    "                (x / y, True)           # Normal division otherwise\n",
    "            )\n",
    "            return result.simplify()  # Simplify to handle potential further issues\n",
    "        except Exception as e:\n",
    "            print(f\"Division error: {e}\")\n",
    "            return 1000  # Return NaN on error\n",
    "        \n",
    "# Define the custom operations using subclassing of sympy.Function\n",
    "class Div_for_visualization(sp.Function):\n",
    "    @classmethod\n",
    "    def eval(cls, x, y):\n",
    "        # Use Piecewise to handle division by zero robustly\n",
    "        return x / y\n",
    "\n",
    "class Neg(sp.Function):\n",
    "    @classmethod\n",
    "    def eval(cls, x):\n",
    "        return -x\n",
    "    \n",
    "\n",
    "# Update converter for sympify to recognize custom classes\n",
    "converter = {\n",
    "    'add': Add,\n",
    "    'sub': Sub,\n",
    "    'mul': Mul,\n",
    "    'div': Div,\n",
    "    'neg': Neg,\n",
    "}\n",
    "\n",
    "# Update converter for sympify to recognize custom classes\n",
    "converter_vis = {\n",
    "    'add': Add,\n",
    "    'sub': Sub,\n",
    "    'mul': Mul,\n",
    "    'div': Div_for_visualization,\n",
    "    'neg': Neg,\n",
    "}\n",
    "\n",
    "# Function to apply the equation to each row of the DataFrame\n",
    "def apply_equation(row):\n",
    "    # Replace variables in the expression with row data\n",
    "    local_env = {\n",
    "        'Pr': row['Pr'],\n",
    "        'La': row['La'],\n",
    "        'Gd': row['Gd'],\n",
    "        'Nd': row['Nd'],\n",
    "        'Ce': row['Ce'],\n",
    "        'Sm': row['Sm'],\n",
    "        'Y' : row['Y'],\n",
    "        \"EN\": row['EN'],\n",
    "        'R' : row['R'],\n",
    "        'IE': row['IE'],\n",
    "        'LAS': row['LAS'],\n",
    "        'M' : row['M'],\n",
    "        'e' : row['E'],\n",
    "    }\n",
    "    try:\n",
    "        result = expr.subs(local_env)\n",
    "        # Force numeric evaluation if the result is not numeric\n",
    "        if isinstance(result, sp.Expr):  # Check if result is still a symbolic expression\n",
    "            result = result.evalf()  # Evaluate numerically\n",
    "        # if result == sp.zoo:\n",
    "        #     result = 1\n",
    "    except Exception as e:\n",
    "        print(f\"Error evaluating row: {local_env}\")\n",
    "        print(f\"Error message: {str(e)}\")\n",
    "        result = None  # Optional: handle error case by assigning a default value or None\n",
    "    return result\n",
    "\n",
    "    # print(\"Local Environment:\", local_env)  # Debug: Print the local environment for a row\n",
    "    # return expr.subs(local_env)"
   ]
  },
  {
   "cell_type": "code",
   "execution_count": 4,
   "metadata": {},
   "outputs": [
    {
     "name": "stdout",
     "output_type": "stream",
     "text": [
      "0.288184438040346*Pr + 0.711815561959654*e + (EN*Nd/Y - Y)/La\n"
     ]
    }
   ],
   "source": [
    "equ = \"add(div(sub(mul(EN, div(Nd, Y)), Y), La), add(div(sub(Pr, e), 3.470), e))\"\n",
    "expr = sp.sympify(equ, locals=converter_vis)\n",
    "print(expr)\n",
    "\n",
    "expr = sp.sympify(equ, locals=converter,evaluate=True)\n",
    "# Read the Excel file\n",
    "df = pd.read_excel('./all_rp650.xlsx')\n",
    "df = df.apply(lambda x: round(x, 4) if x.dtype.kind in 'fc' else x)\n",
    "\n",
    "# Apply the function to each row\n",
    "df['Pred'] = df.apply(apply_equation, axis=1)\n",
    "# Save the result back to a new Excel file\n",
    "df.to_excel('all_rp650_pred.xlsx', index=False)"
   ]
  },
  {
   "cell_type": "code",
   "execution_count": 5,
   "metadata": {},
   "outputs": [
    {
     "name": "stdout",
     "output_type": "stream",
     "text": [
      "EN + 6.424/(Sm + 0.466/(La - R))\n"
     ]
    }
   ],
   "source": [
    "equ = \"add(div(6.424, add(Sm, div(0.466, sub(La, R)))), EN)\"\n",
    "expr = sp.sympify(equ, locals=converter_vis)\n",
    "print(expr)\n",
    "\n",
    "expr = sp.sympify(equ, locals=converter,evaluate=True)\n",
    "# Read the Excel file\n",
    "df = pd.read_excel('./La_rp650.xlsx')\n",
    "df = df.apply(lambda x: round(x, 4) if x.dtype.kind in 'fc' else x)\n",
    "\n",
    "# Apply the function to each row\n",
    "df['Pred'] = df.apply(apply_equation, axis=1)\n",
    "# Save the result back to a new Excel file\n",
    "df.to_excel('La_rp650_pred.xlsx', index=False)"
   ]
  },
  {
   "cell_type": "code",
   "execution_count": 6,
   "metadata": {},
   "outputs": [
    {
     "name": "stdout",
     "output_type": "stream",
     "text": [
      "0.286697247706422*Pr - 0.286697247706422*Y + e + (EN - IE)/(Y*(EN - Sm))\n"
     ]
    }
   ],
   "source": [
    "equ = \"add(div(sub(Pr, Y), 3.488), add(div(div(sub(EN, IE), sub(EN, Sm)), Y), e))\"\n",
    "expr = sp.sympify(equ, locals=converter_vis)\n",
    "print(expr)\n",
    "\n",
    "expr = sp.sympify(equ, locals=converter,evaluate=True)\n",
    "# Read the Excel file\n",
    "df = pd.read_excel('./Gd_rp650.xlsx')\n",
    "df = df.apply(lambda x: round(x, 4) if x.dtype.kind in 'fc' else x)\n",
    "\n",
    "# Apply the function to each row\n",
    "df['Pred'] = df.apply(apply_equation, axis=1)\n",
    "# Save the result back to a new Excel file\n",
    "df.to_excel('Gd_rp650_pred.xlsx', index=False)"
   ]
  },
  {
   "cell_type": "code",
   "execution_count": 7,
   "metadata": {},
   "outputs": [
    {
     "name": "stdout",
     "output_type": "stream",
     "text": [
      "e + (6.163 - Y)*(-La + Y)/(7.642*EN - 7.642*Y) + 0.212\n"
     ]
    }
   ],
   "source": [
    "equ = \"add(div(sub(6.163, Y), div(mul(sub(EN, Y), 7.642), sub(Y, La))), add(e, 0.212))\"\n",
    "expr = sp.sympify(equ, locals=converter_vis)\n",
    "print(expr)\n",
    "\n",
    "expr = sp.sympify(equ, locals=converter,evaluate=True)\n",
    "# Read the Excel file\n",
    "df = pd.read_excel('./Nd_rp650.xlsx')\n",
    "df = df.apply(lambda x: round(x, 4) if x.dtype.kind in 'fc' else x)\n",
    "\n",
    "# Apply the function to each row\n",
    "df['Pred'] = df.apply(apply_equation, axis=1)\n",
    "# Save the result back to a new Excel file\n",
    "df.to_excel('Nd_rp650_pred.xlsx', index=False)"
   ]
  },
  {
   "cell_type": "code",
   "execution_count": 11,
   "metadata": {},
   "outputs": [
    {
     "name": "stdout",
     "output_type": "stream",
     "text": [
      "0.102333196889071*Gd/(La*(LAS - M)) + 0.766791044776119*M + 0.233208955223881*e\n"
     ]
    }
   ],
   "source": [
    "equ = \"add(div(sub(e, M), 4.288), add(div(div(Gd, 4.886), mul(sub(LAS, M), add(La, La))), M))\"\n",
    "expr = sp.sympify(equ, locals=converter_vis)\n",
    "print(expr)\n",
    "\n",
    "expr = sp.sympify(equ, locals=converter,evaluate=True)\n",
    "# Read the Excel file\n",
    "df = pd.read_excel('./Ce_rp650.xlsx')\n",
    "df = df.apply(lambda x: round(x, 4) if x.dtype.kind in 'fc' else x)\n",
    "\n",
    "# Apply the function to each row\n",
    "df['Pred'] = df.apply(apply_equation, axis=1)\n",
    "# Save the result back to a new Excel file\n",
    "df.to_excel('Ce_rp650_pred.xlsx', index=False)"
   ]
  },
  {
   "cell_type": "code",
   "execution_count": 9,
   "metadata": {},
   "outputs": [
    {
     "name": "stdout",
     "output_type": "stream",
     "text": [
      "e + (M - e)/(La - 2.843) + 3.325/(IE*Nd*(R - Y))\n"
     ]
    }
   ],
   "source": [
    "equ = \"add(div(3.325, mul(sub(R, Y), mul(Nd, IE))), add(div(sub(M, e), add(La, -2.843)), e))\"\n",
    "expr = sp.sympify(equ, locals=converter_vis)\n",
    "print(expr)\n",
    "\n",
    "expr = sp.sympify(equ, locals=converter,evaluate=True)\n",
    "# Read the Excel file\n",
    "df = pd.read_excel('./Sm_rp650.xlsx')\n",
    "df = df.apply(lambda x: round(x, 4) if x.dtype.kind in 'fc' else x)\n",
    "\n",
    "# Apply the function to each row\n",
    "df['Pred'] = df.apply(apply_equation, axis=1)\n",
    "# Save the result back to a new Excel file\n",
    "df.to_excel('Sm_rp650_pred.xlsx', index=False)"
   ]
  },
  {
   "cell_type": "code",
   "execution_count": 10,
   "metadata": {},
   "outputs": [
    {
     "name": "stdout",
     "output_type": "stream",
     "text": [
      "e + (Ce - Y + e - 5.698)/(Nd*(-IE + La))\n"
     ]
    }
   ],
   "source": [
    "equ = \"add(div(sub(e, add(sub(5.698, Ce), Y)), mul(sub(La, IE), Nd)), e)\"\n",
    "expr = sp.sympify(equ, locals=converter_vis)\n",
    "print(expr)\n",
    "\n",
    "expr = sp.sympify(equ, locals=converter)\n",
    "\n",
    "# Read the Excel file\n",
    "df = pd.read_excel('./Y_rp650.xlsx')\n",
    "df = df.apply(lambda x: round(x, 4) if x.dtype.kind in 'fc' else x)\n",
    "\n",
    "# Apply the function to each row\n",
    "df['Pred'] = df.apply(apply_equation, axis=1)\n",
    "# Save the result back to a new Excel file\n",
    "df.to_excel('Y_rp650_pred.xlsx', index=False)\n",
    "# df['Pred']"
   ]
  }
 ],
 "metadata": {
  "kernelspec": {
   "display_name": "torch",
   "language": "python",
   "name": "python3"
  },
  "language_info": {
   "codemirror_mode": {
    "name": "ipython",
    "version": 3
   },
   "file_extension": ".py",
   "mimetype": "text/x-python",
   "name": "python",
   "nbconvert_exporter": "python",
   "pygments_lexer": "ipython3",
   "version": "3.12.2"
  }
 },
 "nbformat": 4,
 "nbformat_minor": 2
}
